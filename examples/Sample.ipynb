{
 "cells": [
  {
   "cell_type": "code",
   "execution_count": 1,
   "metadata": {},
   "outputs": [
    {
     "name": "stdout",
     "output_type": "stream",
     "text": [
      "/home/evenmm/v2019-hackathon/examples\n"
     ]
    }
   ],
   "source": [
    "from process import preprocess"
   ]
  },
  {
   "cell_type": "markdown",
   "metadata": {},
   "source": [
    "Get dataset with features"
   ]
  },
  {
   "cell_type": "code",
   "execution_count": 2,
   "metadata": {
    "scrolled": false
   },
   "outputs": [],
   "source": [
    "config = {\n",
    "    'pred_var': 'Torvet PM10', # Must include station and pollutants name (column name)\n",
    "    'stations': ['Torvet'], # Stations to use in feature extraction\n",
    "    'window': 6,\n",
    "}\n",
    "\n",
    "data = preprocess(**config)"
   ]
  },
  {
   "cell_type": "code",
   "execution_count": 3,
   "metadata": {},
   "outputs": [
    {
     "name": "stdout",
     "output_type": "stream",
     "text": [
      "X train (12192, 9)\n",
      "y train (12192, 6)\n",
      "X validation (1355, 9)\n",
      "X test (600, 9)\n"
     ]
    }
   ],
   "source": [
    "print('X train', data['X_train'].shape)\n",
    "print('y train', data['y_train'].shape)\n",
    "print('X validation', data['X_val'].shape)\n",
    "print('X test', data['X_test'].shape)\n",
    "\n",
    "#print(data['X_train'].columns)"
   ]
  },
  {
   "cell_type": "markdown",
   "metadata": {},
   "source": [
    "**Train Multi Output RF | GBM | MLP**\n",
    "\n",
    "_Params are hidden inside each file_"
   ]
  },
  {
   "cell_type": "code",
   "execution_count": 4,
   "metadata": {},
   "outputs": [],
   "source": [
    "#import GBM as GBM\n",
    "#GBM.train(config, data)\n",
    "#gbm_results, rmse, r2 = GBM.predict(config, data)\n",
    "#print('RMSE: {:.2f}   R2:{:.2f}'.format(rmse, r2))"
   ]
  },
  {
   "cell_type": "code",
   "execution_count": 5,
   "metadata": {},
   "outputs": [],
   "source": [
    "#import RF as RF\n",
    "#RF.train(config, data)\n",
    "#rf_results, rmse, r2 = RF.predict(config, data)\n",
    "#print('RMSE: {:.2f}   R2:{:.2f}'.format(rmse, r2))"
   ]
  },
  {
   "cell_type": "code",
   "execution_count": null,
   "metadata": {},
   "outputs": [
    {
     "name": "stdout",
     "output_type": "stream",
     "text": [
      "Sjukeste yoloskriptet\n",
      "e 0   time: 51   train: 2.38 val: 0.37\n"
     ]
    }
   ],
   "source": [
    "import MLP as MLP\n",
    "MLP.train(config, data)\n",
    "mlp_results, rmse, r2 = MLP.predict(config, data)\n",
    "print('RMSE: {:.2f}   R2:{:.2f}'.format(rmse, r2))"
   ]
  },
  {
   "cell_type": "markdown",
   "metadata": {},
   "source": [
    "**Plotting the results**"
   ]
  },
  {
   "cell_type": "code",
   "execution_count": null,
   "metadata": {},
   "outputs": [],
   "source": [
    "import plotly\n",
    "import plotly.graph_objs as go\n",
    "from plotly.offline import iplot, init_notebook_mode\n",
    "import cufflinks\n",
    "plotly.tools.set_credentials_file(username='evenmm', api_key='jI1wgEOwBZvYdJTSDccn')"
   ]
  },
  {
   "cell_type": "code",
   "execution_count": null,
   "metadata": {},
   "outputs": [],
   "source": [
    "#gbm_results['RF'] = rf_results['RF']\n",
    "#gbm_results['MLP'] = mlp_results['MLP']\n",
    "mlp_results.iplot()"
   ]
  },
  {
   "cell_type": "code",
   "execution_count": null,
   "metadata": {},
   "outputs": [],
   "source": []
  },
  {
   "cell_type": "code",
   "execution_count": null,
   "metadata": {},
   "outputs": [],
   "source": []
  },
  {
   "cell_type": "code",
   "execution_count": null,
   "metadata": {},
   "outputs": [],
   "source": []
  }
 ],
 "metadata": {
  "kernelspec": {
   "display_name": "Python 3",
   "language": "python",
   "name": "python3"
  },
  "language_info": {
   "codemirror_mode": {
    "name": "ipython",
    "version": 3
   },
   "file_extension": ".py",
   "mimetype": "text/x-python",
   "name": "python",
   "nbconvert_exporter": "python",
   "pygments_lexer": "ipython3",
   "version": "3.6.8"
  }
 },
 "nbformat": 4,
 "nbformat_minor": 2
}
